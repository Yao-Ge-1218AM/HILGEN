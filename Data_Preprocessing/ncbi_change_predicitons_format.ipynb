{
  "nbformat": 4,
  "nbformat_minor": 0,
  "metadata": {
    "colab": {
      "provenance": []
    },
    "kernelspec": {
      "name": "python3",
      "display_name": "Python 3"
    },
    "language_info": {
      "name": "python"
    }
  },
  "cells": [
    {
      "cell_type": "code",
      "execution_count": null,
      "metadata": {
        "id": "ihTiqamhct1B"
      },
      "outputs": [],
      "source": [
        "def adjust_predictions_by_labels(golden_labels_path, predictions_path, output_path):\n",
        "    # 读取golden_labels文件\n",
        "    with open(golden_labels_path, 'r') as f:\n",
        "        golden_labels_lines = f.readlines()\n",
        "\n",
        "    # 读取predictions文件\n",
        "    with open(predictions_path, 'r') as f:\n",
        "        predictions = f.read().split()\n",
        "\n",
        "    adjusted_predictions = []\n",
        "    index = 0\n",
        "\n",
        "    for line in golden_labels_lines:\n",
        "        num_labels = len(line.split())\n",
        "        adjusted_predictions.append(\" \".join(predictions[index:index + num_labels]))\n",
        "        index += num_labels\n",
        "\n",
        "    # 写入新的predictions文件\n",
        "    with open(output_path, 'w') as f:\n",
        "        f.write(\"\\n\".join(adjusted_predictions))\n",
        "\n",
        "# 使用函数，传入文件路径\n",
        "golden_labels_path = '/content/ncbi_golden_labels.txt'\n",
        "predictions_path = '/content/predictions-ncbi-gpt-parents.txt'\n",
        "output_path = '/content/adjusted_predictions.txt'\n",
        "\n",
        "adjust_predictions_by_labels(golden_labels_path, predictions_path, output_path)\n"
      ]
    },
    {
      "cell_type": "code",
      "source": [
        "def adjust_predictions_by_labels(golden_labels_path, predictions_path, output_path):\n",
        "    # 读取golden_labels文件\n",
        "    with open(golden_labels_path, 'r') as f:\n",
        "        golden_labels_lines = f.readlines()\n",
        "\n",
        "    # 读取predictions文件\n",
        "    with open(predictions_path, 'r') as f:\n",
        "        predictions = f.read().split()\n",
        "\n",
        "    adjusted_predictions = []\n",
        "    index = 0\n",
        "\n",
        "    for line in golden_labels_lines:\n",
        "        num_labels = len(line.split())\n",
        "        line_predictions = predictions[index:index + num_labels]\n",
        "        # 替换标签中的 S-, B-, E- 为 I-\n",
        "        line_predictions = [label.replace('S-', 'I-').replace('B-', 'I-').replace('E-', 'I-') for label in line_predictions]\n",
        "        adjusted_predictions.append(\" \".join(line_predictions))\n",
        "        index += num_labels\n",
        "\n",
        "    # 写入新的predictions文件\n",
        "    with open(output_path, 'w') as f:\n",
        "        f.write(\"\\n\".join(adjusted_predictions))\n",
        "\n",
        "# 使用函数，传入文件路径\n",
        "golden_labels_path = '/content/ncbi_golden_labels.txt'\n",
        "predictions_path = '/content/predictions-ncbi-umls-siblings.txt'\n",
        "output_path = '/content/output-ncbi-umls-siblings.txt'\n",
        "\n",
        "adjust_predictions_by_labels(golden_labels_path, predictions_path, output_path)\n"
      ],
      "metadata": {
        "id": "oLF0gYT-dQLK"
      },
      "execution_count": null,
      "outputs": []
    },
    {
      "cell_type": "code",
      "source": [
        "!unzip /content/pre-output.zip"
      ],
      "metadata": {
        "colab": {
          "base_uri": "https://localhost:8080/"
        },
        "id": "xci-X-SPfLKO",
        "outputId": "b0bb8337-69c6-495b-ffd4-58722134aaaa"
      },
      "execution_count": null,
      "outputs": [
        {
          "output_type": "stream",
          "name": "stdout",
          "text": [
            "Archive:  /content/pre-output.zip\n",
            "  inflating: pre-output/pre_output_bert_ncbi_gpt_parents.txt  \n",
            "  inflating: pre-output/pre_output_bert_ncbi_gpt_related.txt  \n",
            "  inflating: pre-output/pre_output_bert_ncbi_gpt_siblings.txt  \n",
            "  inflating: pre-output/pre_output_bert_ncbi_umls_parents.txt  \n",
            "  inflating: pre-output/pre_output_bert_ncbi_umls_related.txt  \n",
            "  inflating: pre-output/pre_output_bert_ncbi_umls_siblings.txt  \n",
            "  inflating: pre-output/pre_output_roberta_ncbi_gpt_parents.txt  \n",
            "  inflating: pre-output/pre_output_roberta_ncbi_gpt_related.txt  \n",
            "  inflating: pre-output/pre_output_roberta_ncbi_gpt_siblings.txt  \n",
            "  inflating: pre-output/pre_output_roberta_ncbi_umls_related.txt  \n",
            "  inflating: pre-output/pre_output_roberta_ncbi_umls_siblings.txt  \n"
          ]
        }
      ]
    },
    {
      "cell_type": "code",
      "source": [
        "import os\n",
        "\n",
        "def adjust_predictions_by_labels(golden_labels_path, predictions_path, output_path):\n",
        "    # 读取golden_labels文件\n",
        "    with open(golden_labels_path, 'r') as f:\n",
        "        golden_labels_lines = f.readlines()\n",
        "\n",
        "    # 读取predictions文件\n",
        "    with open(predictions_path, 'r') as f:\n",
        "        predictions = f.read().split()\n",
        "\n",
        "    adjusted_predictions = []\n",
        "    index = 0\n",
        "\n",
        "    for line in golden_labels_lines:\n",
        "        num_labels = len(line.split())\n",
        "        line_predictions = predictions[index:index + num_labels]\n",
        "        # 替换标签中的 S-, B-, E- 为 I-\n",
        "        line_predictions = [label.replace('S-', 'I-').replace('B-', 'I-').replace('E-', 'I-') for label in line_predictions]\n",
        "        adjusted_predictions.append(\" \".join(line_predictions))\n",
        "        index += num_labels\n",
        "\n",
        "    # 写入新的predictions文件\n",
        "    with open(output_path, 'w') as f:\n",
        "        f.write(\"\\n\".join(adjusted_predictions))\n",
        "\n",
        "def process_folder(input_folder_path, golden_labels_filename, output_folder_path):\n",
        "    # 创建output文件夹如果不存在\n",
        "    if not os.path.exists(output_folder_path):\n",
        "        os.makedirs(output_folder_path)\n",
        "\n",
        "    for filename in os.listdir(input_folder_path):\n",
        "        if 'pre_output' in filename:\n",
        "            # 构建文件路径\n",
        "            predictions_path = os.path.join(input_folder_path, filename)\n",
        "            golden_labels_path = os.path.join(input_folder_path, golden_labels_filename)\n",
        "            # 构建新的文件名\n",
        "            output_filename = filename.replace('pre_output', 'output')\n",
        "            output_path = os.path.join(output_folder_path, output_filename)\n",
        "            # 调用处理函数\n",
        "            adjust_predictions_by_labels(golden_labels_path, predictions_path, output_path)\n",
        "\n",
        "# 使用函数，传入文件夹路径和golden_labels文件名\n",
        "input_folder_path = '/content/pre-output'\n",
        "golden_labels_filename = '/content/ncbi_golden_labels.txt'\n",
        "output_folder_path = '/content/output'\n",
        "\n",
        "process_folder(input_folder_path, golden_labels_filename, output_folder_path)\n"
      ],
      "metadata": {
        "id": "KZcE5RBRfllB"
      },
      "execution_count": null,
      "outputs": []
    }
  ]
}