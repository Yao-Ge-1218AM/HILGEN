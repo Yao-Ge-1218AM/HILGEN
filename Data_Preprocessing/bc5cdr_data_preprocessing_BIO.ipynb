{
  "nbformat": 4,
  "nbformat_minor": 0,
  "metadata": {
    "colab": {
      "provenance": []
    },
    "kernelspec": {
      "name": "python3",
      "display_name": "Python 3"
    },
    "language_info": {
      "name": "python"
    }
  },
  "cells": [
    {
      "cell_type": "markdown",
      "source": [
        "json to BIO"
      ],
      "metadata": {
        "id": "4pDXCXCYUJTM"
      }
    },
    {
      "cell_type": "code",
      "execution_count": null,
      "metadata": {
        "id": "Tk0m44HeNYim"
      },
      "outputs": [],
      "source": [
        "import json\n",
        "\n",
        "file = \"/content/valid.json\"\n",
        "\n",
        "with open(file,\"r\") as f:\n",
        "  with open(\"/content/valid-new.txt\",\"w\") as wf:\n",
        "    lines = f.readlines()\n",
        "    for line in lines:\n",
        "      load_dict = json.loads(line)\n",
        "      for i in range(len(load_dict[\"tags\"])):\n",
        "        #print(load_dict[\"tokens\"][i].shape)\n",
        "        token = load_dict[\"tokens\"][i]\n",
        "        tag = load_dict[\"tags\"][i]\n",
        "        #print(token.shape)\n",
        "        #wf.wirte(token + \" \" + tag + \"\\n\")\n",
        "        wf.write(str(token) + \" \" + str(tag) + \"\\n\")\n",
        "      wf.write(\"\\n\")"
      ]
    },
    {
      "cell_type": "markdown",
      "source": [
        "change tags from 0-4 to TEXTS"
      ],
      "metadata": {
        "id": "gHiBfYZbULGN"
      }
    },
    {
      "cell_type": "code",
      "source": [
        "with open(\"/content/valid-new.txt\",\"r\") as f:\n",
        "  with open(\"/content/valid-BIO.txt\", \"w\") as wf:\n",
        "    lines = f.readlines()\n",
        "    for line in lines:\n",
        "      if(line==\"\\n\"):\n",
        "        wf.write(line)\n",
        "      else:\n",
        "        new_line = line.strip(\"\\n\").split(\" \")\n",
        "        if(new_line[1]==\"0\"):\n",
        "          wf.write(new_line[0] + \" \" + \"O\" + \"\\n\")\n",
        "        elif(new_line[1]==\"1\"):\n",
        "            wf.write(new_line[0] + \" \" + \"B-Chemical\" + \"\\n\")\n",
        "        elif(new_line[1]==\"2\"):\n",
        "            wf.write(new_line[0] + \" \" + \"B-Disease\" + \"\\n\")\n",
        "        elif(new_line[1]==\"3\"):\n",
        "            wf.write(new_line[0] + \" \" + \"I-Disease\" + \"\\n\")\n",
        "        elif(new_line[1]==\"4\"):\n",
        "            wf.write(new_line[0] + \" \" + \"I-Chemical\" + \"\\n\")"
      ],
      "metadata": {
        "id": "IWf-rjjqUOmX"
      },
      "execution_count": null,
      "outputs": []
    }
  ]
}